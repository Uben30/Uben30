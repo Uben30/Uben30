{
  "nbformat": 4,
  "nbformat_minor": 0,
  "metadata": {
    "colab": {
      "provenance": [],
      "authorship_tag": "ABX9TyPoWhSyXN/oTsGSN3ODyb77",
      "include_colab_link": true
    },
    "kernelspec": {
      "name": "python3",
      "display_name": "Python 3"
    },
    "language_info": {
      "name": "python"
    }
  },
  "cells": [
    {
      "cell_type": "markdown",
      "metadata": {
        "id": "view-in-github",
        "colab_type": "text"
      },
      "source": [
        "<a href=\"https://colab.research.google.com/github/Uben30/Uben30/blob/main/Basics_Python_Programs.ipynb\" target=\"_parent\"><img src=\"https://colab.research.google.com/assets/colab-badge.svg\" alt=\"Open In Colab\"/></a>"
      ]
    },
    {
      "cell_type": "markdown",
      "source": [],
      "metadata": {
        "id": "Y2cv11iLU_jQ"
      }
    },
    {
      "cell_type": "markdown",
      "source": [
        "Write a Python program to find the largest among three numbers."
      ],
      "metadata": {
        "id": "U4XpdrSVVBIO"
      }
    },
    {
      "cell_type": "code",
      "source": [
        "def max_num(a,b,c):\n",
        "  return max(a,b,c)\n",
        "max_num(5,56,2332)"
      ],
      "metadata": {
        "colab": {
          "base_uri": "https://localhost:8080/"
        },
        "id": "IOFwGrjGVEBp",
        "outputId": "72642749-c69d-4de3-ff92-5ecd8d0b5807"
      },
      "execution_count": null,
      "outputs": [
        {
          "output_type": "execute_result",
          "data": {
            "text/plain": [
              "2332"
            ]
          },
          "metadata": {},
          "execution_count": 2
        }
      ]
    },
    {
      "cell_type": "markdown",
      "source": [
        "Write a Python program to check whether a given number is even or odd."
      ],
      "metadata": {
        "id": "J4e5WrLPVmTn"
      }
    },
    {
      "cell_type": "code",
      "source": [
        "def even_odd(a):\n",
        "  if a%2==0:\n",
        "    return \"even\"\n",
        "  else:\n",
        "    return \"odd\"\n",
        "even_odd(4664622989)"
      ],
      "metadata": {
        "colab": {
          "base_uri": "https://localhost:8080/",
          "height": 36
        },
        "id": "FG5BxAMUVp_o",
        "outputId": "d656d6c8-d7bf-4577-99aa-6e63bba8d9db"
      },
      "execution_count": null,
      "outputs": [
        {
          "output_type": "execute_result",
          "data": {
            "text/plain": [
              "'odd'"
            ],
            "application/vnd.google.colaboratory.intrinsic+json": {
              "type": "string"
            }
          },
          "metadata": {},
          "execution_count": 3
        }
      ]
    },
    {
      "cell_type": "markdown",
      "source": [
        "Write a Python program to check whether a given year is a leap year or not."
      ],
      "metadata": {
        "id": "dekh0fvCV2_4"
      }
    },
    {
      "cell_type": "code",
      "source": [
        "def leap_year(year):\n",
        "  if year%400==0: \n",
        "    return True\n",
        "  elif year%100==0: \n",
        "    return False\n",
        "  elif year%4==0: \n",
        "    return True\n",
        "  else: \n",
        "    return False\n",
        "leap_year(2000)"
      ],
      "metadata": {
        "colab": {
          "base_uri": "https://localhost:8080/"
        },
        "id": "Bfia1oK5V5-W",
        "outputId": "855ee324-1886-4970-97df-fd2ef5339be0"
      },
      "execution_count": null,
      "outputs": [
        {
          "output_type": "execute_result",
          "data": {
            "text/plain": [
              "True"
            ]
          },
          "metadata": {},
          "execution_count": 4
        }
      ]
    },
    {
      "cell_type": "markdown",
      "source": [
        "Write a Python program to print the Fibonacci sequence up to a given number."
      ],
      "metadata": {
        "id": "tZBdOgZ-Wwtz"
      }
    },
    {
      "cell_type": "code",
      "source": [
        "def fibonacci(n):\n",
        "  if n==0:\n",
        "    return 0\n",
        "  elif n==1:\n",
        "    return 1\n",
        "  else:\n",
        "   return fibonacci(n-1)+fibonacci(n-2)\n",
        " \n",
        "num=input(\"Enter a number:\")\n",
        "num=int(num) #type casted to int as input is taken as a string\n",
        "if num<=0:\n",
        "   print(\"invalid\")\n",
        "else:\n",
        "  print(\"Squence:\")\n",
        "  for i in range(num):\n",
        "    print(fibonacci(i),end=\" \")"
      ],
      "metadata": {
        "colab": {
          "base_uri": "https://localhost:8080/"
        },
        "id": "IGmE0R8eWzyJ",
        "outputId": "ae4ea0f8-09e7-47d6-c8a9-15cba0e319bf"
      },
      "execution_count": null,
      "outputs": [
        {
          "output_type": "stream",
          "name": "stdout",
          "text": [
            "Enter a number:10\n",
            "Squence:\n",
            "0 1 1 2 3 5 8 13 21 34 "
          ]
        }
      ]
    },
    {
      "cell_type": "markdown",
      "source": [
        "Write a Python program to find the factorial of a given number."
      ],
      "metadata": {
        "id": "h_6VKjGI-CSz"
      }
    },
    {
      "cell_type": "code",
      "source": [
        "def factorial(a): # factorial of a number is 1*2*3*...n\n",
        "  if a==0:\n",
        "    return 1\n",
        "  else:\n",
        "    return a*factorial(a-1)\n",
        "\n",
        "num = input(\"Enter a number\")\n",
        "num=int(num) #type casted to int as input is taken as a string\n",
        "if num<0:\n",
        " print(\"Invalid Number\")\n",
        "else:\n",
        "  for i in range(1,num+1): # using for from range 1 to num +1 as the loop ends at n-1\n",
        "    if i<num:\n",
        "     print(i,end=\" X \") # printing all integers till 'num' and ending with \"X\"\n",
        "    else:\n",
        "      print(i) # printing 'num' as it is the last integer\n",
        "  print(\" = \", factorial(num)) #printing the factorial"
      ],
      "metadata": {
        "colab": {
          "base_uri": "https://localhost:8080/"
        },
        "id": "Kx9xUEwF-Lkb",
        "outputId": "5d320ad7-278b-46df-d365-a077d02eef25"
      },
      "execution_count": 8,
      "outputs": [
        {
          "output_type": "stream",
          "name": "stdout",
          "text": [
            "Enter a number10\n",
            "1 X 2 X 3 X 4 X 5 X 6 X 7 X 8 X 9 X 10\n",
            " =  3628800\n"
          ]
        }
      ]
    },
    {
      "cell_type": "markdown",
      "source": [
        "Write a Python program to check whether a given string is a palindrome or not."
      ],
      "metadata": {
        "id": "xTI-nhS3Clbj"
      }
    },
    {
      "cell_type": "code",
      "source": [
        "def palindrome(s):\n",
        "  if len(s)<=1: # if length is less than or equal to 1 then its reverse is same\n",
        "   return True\n",
        "  elif s==s[::-1]: # if the reverse of the string is same as the original string\n",
        "    return True\n",
        "  else:\n",
        "    return False\n",
        "palindrome(\"Utkarsh\")"
      ],
      "metadata": {
        "colab": {
          "base_uri": "https://localhost:8080/"
        },
        "id": "lWOVwxWxCojR",
        "outputId": "9b12df43-fe9f-4c0d-b2af-1d9e9cb49e63"
      },
      "execution_count": 13,
      "outputs": [
        {
          "output_type": "execute_result",
          "data": {
            "text/plain": [
              "False"
            ]
          },
          "metadata": {},
          "execution_count": 13
        }
      ]
    },
    {
      "cell_type": "markdown",
      "source": [
        "Write a Python program to find the sum of digits of a given number."
      ],
      "metadata": {
        "id": "468af-vOEMNK"
      }
    },
    {
      "cell_type": "code",
      "source": [
        "def sum_digit(a):\n",
        "  if a<10:\n",
        "    return a\n",
        "  else:\n",
        "    return int(a%10) + int(sum_digit(a/10)) # a%10 gives the last digit of the number, then a/10 is recursively called to add all digits together, types casted to int as % and / produces decimal values\n",
        "sum_digit(1234)"
      ],
      "metadata": {
        "colab": {
          "base_uri": "https://localhost:8080/"
        },
        "id": "7_mCpterENE7",
        "outputId": "b0c8a08c-08bc-48c7-bd9f-64fdfb933368"
      },
      "execution_count": 15,
      "outputs": [
        {
          "output_type": "execute_result",
          "data": {
            "text/plain": [
              "10"
            ]
          },
          "metadata": {},
          "execution_count": 15
        }
      ]
    },
    {
      "cell_type": "markdown",
      "source": [
        "Write a Python program to find the GCD of two numbers."
      ],
      "metadata": {
        "id": "o1Dpz1OCIS15"
      }
    },
    {
      "cell_type": "code",
      "source": [
        "def gcd(a,b):\n",
        " if a<b:\n",
        "   if b%a==0:\n",
        "     return a\n",
        "   else:\n",
        "     for i in range (int(a/2),0,-1): \n",
        "      if (a%i==0) and (b%i==0): # checking for common divisor\n",
        "        return i # return i as the lopp starts from a/2 and hence the highest divisor would be returned\n",
        " \n",
        " else:\n",
        "    if a%b==0:\n",
        "      return b\n",
        "    else:\n",
        "      for i in range (int(b/2),0,-1):\n",
        "       if (a%i==0) and (b%i==0):\n",
        "        return i     \n",
        "gcd(20,90)             "
      ],
      "metadata": {
        "colab": {
          "base_uri": "https://localhost:8080/"
        },
        "id": "EvLX12m4IU3L",
        "outputId": "e549fe46-a533-4f7e-ee8c-9b0a07222ea9"
      },
      "execution_count": 21,
      "outputs": [
        {
          "output_type": "execute_result",
          "data": {
            "text/plain": [
              "10"
            ]
          },
          "metadata": {},
          "execution_count": 21
        }
      ]
    },
    {
      "cell_type": "code",
      "source": [
        "def gcd(a,b):\n",
        "  \n",
        " if max(a,b)%min(a,b)==0: # amalgated the min and max condition in one\n",
        "  return min(a,b)\n",
        " else:\n",
        "   for i in range(int(min(a,b)/2),0,-1):\n",
        "    if ( a%i==0) and (b%i==0):\n",
        "     return i\n",
        "gcd(205,905)     "
      ],
      "metadata": {
        "colab": {
          "base_uri": "https://localhost:8080/"
        },
        "id": "5OlBck_jKlFa",
        "outputId": "bb139ec0-d4cb-4c2f-d6cc-0cbce542c89c"
      },
      "execution_count": 28,
      "outputs": [
        {
          "output_type": "execute_result",
          "data": {
            "text/plain": [
              "5"
            ]
          },
          "metadata": {},
          "execution_count": 28
        }
      ]
    }
  ]
}